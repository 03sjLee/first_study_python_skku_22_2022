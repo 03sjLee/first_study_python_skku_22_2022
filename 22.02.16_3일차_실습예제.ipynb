{
 "cells": [
  {
   "cell_type": "code",
   "execution_count": null,
   "id": "00f77019",
   "metadata": {},
   "outputs": [],
   "source": [
    "print(\"반지름을 입력하시오: \")\n",
    "aa = int(input())\n",
    "\n",
    "pi = 3.14\n",
    "\n",
    "cir = 2*aa*pi\n",
    "cir2 = pi * aa * aa\n",
    "\n",
    "print(f\"원의 둘레: )"
   ]
  },
  {
   "cell_type": "code",
   "execution_count": 4,
   "id": "046ca533",
   "metadata": {},
   "outputs": [
    {
     "name": "stdout",
     "output_type": "stream",
     "text": [
      "첫 번째 정수를 입력하세요: -3583\n",
      "두 번째 정수를 입력하세요: -986\n",
      "-3583 / -986 의 몫은 3입니다\n",
      "-3583 / -986 의 나머지는 -625입니다\n"
     ]
    }
   ],
   "source": [
    "aa = int(input(\"첫 번째 정수를 입력하세요: \"))\n",
    "bb = int(input(\"두 번째 정수를 입력하세요: \"))\n",
    "\n",
    "cc = aa // bb\n",
    "dd = aa % bb\n",
    "\n",
    "print(f\"{aa} / {bb} 의 몫은 {cc}입니다\")\n",
    "print(f\"{aa} / {bb} 의 나머지는 {dd}입니다\")"
   ]
  },
  {
   "cell_type": "code",
   "execution_count": null,
   "id": "d265e925",
   "metadata": {},
   "outputs": [],
   "source": [
    "xx = int(input(\"2차원 공간의 x 좌표를 입력하세요: \"))\n",
    "yy = int(input(\"2차원 공가읜 y 좌표를 입력하세요: \"))\n",
    "\n",
    "\n",
    "if xx > 0 and yy > 0:\n",
    "    print(f\"({xx}, {yy})는 1 사분면에 속합니다.\")\n",
    "    \n",
    "else :\n",
    "    print(f\"({xx}, {yy})는 1 사분면에 속하지 않습니다.\")\n",
    "\n",
    "    \n",
    "    \n",
    "\n",
    "\n"
   ]
  },
  {
   "cell_type": "code",
   "execution_count": 5,
   "id": "7e2068cc",
   "metadata": {},
   "outputs": [
    {
     "name": "stdout",
     "output_type": "stream",
     "text": [
      "첫번째 직선의 첫번째 점의 2차원 공간 x1 좌표를 입력하세요: 12\n",
      "첫번째 직선의 첫번째 점의 2차원 공간 y1 좌표를 입력하세요: 24\n",
      "첫번째 직선의 두번째 점의 2차원 공간 x2 좌표를 입력하세요: 25\n",
      "첫번째 직선의 두번쨰 점의 2차원 공간 y2 좌표를 입력하세요: 50\n",
      "두번째 직선의 첫번째 점의 2차원 공간 x3 좌표를 입력하세요: 28\n",
      "두번째 직선의 첫번째 점의 2차원 공간 y3 좌표를 입력하세요: 56\n",
      "두번째 직선의 두번째 점의 2차원 공간 x4 좌표를 입력하세요: 50\n",
      "두번째 직선의 두번쨰 점의 2차원 공간 y4 좌표를 입력하세요: 100\n",
      "(x1, y1),(x2, y2)의 값은 (12, 24),(25, 50)\n",
      "(x3, y3),(x4, y4)의 값은 (28, 56),(50, 100)\n",
      "두 직선은 평행합니다\n"
     ]
    }
   ],
   "source": [
    "x1 = int(input(\"첫번째 직선의 첫번째 점의 2차원 공간 x1 좌표를 입력하세요: \"))\n",
    "y1 = int(input(\"첫번째 직선의 첫번째 점의 2차원 공간 y1 좌표를 입력하세요: \"))\n",
    "x2 = int(input(\"첫번째 직선의 두번째 점의 2차원 공간 x2 좌표를 입력하세요: \"))\n",
    "y2 = int(input(\"첫번째 직선의 두번쨰 점의 2차원 공간 y2 좌표를 입력하세요: \"))\n",
    "\n",
    "x3 = int(input(\"두번째 직선의 첫번째 점의 2차원 공간 x3 좌표를 입력하세요: \"))\n",
    "y3 = int(input(\"두번째 직선의 첫번째 점의 2차원 공간 y3 좌표를 입력하세요: \"))\n",
    "x4 = int(input(\"두번째 직선의 두번째 점의 2차원 공간 x4 좌표를 입력하세요: \"))\n",
    "y4 = int(input(\"두번째 직선의 두번쨰 점의 2차원 공간 y4 좌표를 입력하세요: \"))\n",
    "\n",
    "print(f\"(x1, y1),(x2, y2)의 값은 ({x1}, {y1}),({x2}, {y2})\")\n",
    "print(f\"(x3, y3),(x4, y4)의 값은 ({x3}, {y3}),({x4}, {y4})\")\n",
    "\n",
    "if ((y1 - y2) / (x1 - x2) == (y3 - y4) / (x3 - x4)):\n",
    "    print(\"두 직선은 평행합니다\")\n",
    "else:\n",
    "    print(\"두 직선은 평행하지 않습니다\")\n",
    "\n",
    "\n",
    "\n"
   ]
  },
  {
   "cell_type": "code",
   "execution_count": 44,
   "id": "48c24f4d",
   "metadata": {},
   "outputs": [
    {
     "name": "stdout",
     "output_type": "stream",
     "text": [
      "첫번째 수를 입력하세요: 12\n",
      "두번째 수를 입력하세요: 6\n"
     ]
    },
    {
     "ename": "UnboundLocalError",
     "evalue": "local variable 'result' referenced before assignment",
     "output_type": "error",
     "traceback": [
      "\u001b[1;31m---------------------------------------------------------------------------\u001b[0m",
      "\u001b[1;31mUnboundLocalError\u001b[0m                         Traceback (most recent call last)",
      "\u001b[1;32m~\\AppData\\Local\\Temp/ipykernel_11808/128952305.py\u001b[0m in \u001b[0;36m<module>\u001b[1;34m\u001b[0m\n\u001b[0;32m     29\u001b[0m \u001b[0my1\u001b[0m \u001b[1;33m=\u001b[0m \u001b[0mint\u001b[0m\u001b[1;33m(\u001b[0m\u001b[0minput\u001b[0m\u001b[1;33m(\u001b[0m\u001b[1;34m\"두번째 수를 입력하세요: \"\u001b[0m\u001b[1;33m)\u001b[0m\u001b[1;33m)\u001b[0m\u001b[1;33m\u001b[0m\u001b[1;33m\u001b[0m\u001b[0m\n\u001b[0;32m     30\u001b[0m \u001b[1;33m\u001b[0m\u001b[0m\n\u001b[1;32m---> 31\u001b[1;33m \u001b[0mprint\u001b[0m\u001b[1;33m(\u001b[0m\u001b[0mgcd\u001b[0m\u001b[1;33m(\u001b[0m\u001b[0mx1\u001b[0m\u001b[1;33m,\u001b[0m\u001b[0my1\u001b[0m\u001b[1;33m)\u001b[0m\u001b[1;33m)\u001b[0m\u001b[1;33m\u001b[0m\u001b[1;33m\u001b[0m\u001b[0m\n\u001b[0m\u001b[0;32m     32\u001b[0m \u001b[1;33m\u001b[0m\u001b[0m\n",
      "\u001b[1;32m~\\AppData\\Local\\Temp/ipykernel_11808/128952305.py\u001b[0m in \u001b[0;36mgcd\u001b[1;34m(x, y)\u001b[0m\n\u001b[0;32m     22\u001b[0m \u001b[1;33m\u001b[0m\u001b[0m\n\u001b[0;32m     23\u001b[0m \u001b[1;33m\u001b[0m\u001b[0m\n\u001b[1;32m---> 24\u001b[1;33m     \u001b[1;32mreturn\u001b[0m \u001b[0mresult\u001b[0m\u001b[1;33m\u001b[0m\u001b[1;33m\u001b[0m\u001b[0m\n\u001b[0m\u001b[0;32m     25\u001b[0m \u001b[1;33m\u001b[0m\u001b[0m\n\u001b[0;32m     26\u001b[0m \u001b[1;33m\u001b[0m\u001b[0m\n",
      "\u001b[1;31mUnboundLocalError\u001b[0m: local variable 'result' referenced before assignment"
     ]
    }
   ],
   "source": [
    "def gcd(x,y):\n",
    "    \n",
    "    aa = x\n",
    "    bb = y\n",
    "    \n",
    "    if(x>y):\n",
    "        pass\n",
    "    elif(x==y):\n",
    "        result = x\n",
    "    else:\n",
    "        x = bb\n",
    "        y = aa       \n",
    "        aa = x\n",
    "        bb = y\n",
    "    \n",
    "    while not(x%y==0):\n",
    "        x=y\n",
    "        y=aa%bb\n",
    "        aa=x\n",
    "        bb=y\n",
    "        result=y\n",
    "            \n",
    "    \n",
    "    return result\n",
    "\n",
    "\n",
    "\n",
    "x1 = int(input(\"첫번째 수를 입력하세요: \"))\n",
    "y1 = int(input(\"두번째 수를 입력하세요: \"))\n",
    "\n",
    "print(gcd(x1,y1))\n",
    "\n"
   ]
  },
  {
   "cell_type": "code",
   "execution_count": 41,
   "id": "e6e2430b",
   "metadata": {},
   "outputs": [
    {
     "ename": "TypeError",
     "evalue": "'int' object is not subscriptable",
     "output_type": "error",
     "traceback": [
      "\u001b[1;31m---------------------------------------------------------------------------\u001b[0m",
      "\u001b[1;31mTypeError\u001b[0m                                 Traceback (most recent call last)",
      "\u001b[1;32m~\\AppData\\Local\\Temp/ipykernel_11808/1147232786.py\u001b[0m in \u001b[0;36m<module>\u001b[1;34m\u001b[0m\n\u001b[0;32m     14\u001b[0m \u001b[1;33m\u001b[0m\u001b[0m\n\u001b[0;32m     15\u001b[0m \u001b[1;33m\u001b[0m\u001b[0m\n\u001b[1;32m---> 16\u001b[1;33m \u001b[0mprint_reverse\u001b[0m\u001b[1;33m(\u001b[0m\u001b[1;36m124\u001b[0m\u001b[1;33m)\u001b[0m\u001b[1;33m\u001b[0m\u001b[1;33m\u001b[0m\u001b[0m\n\u001b[0m\u001b[0;32m     17\u001b[0m \u001b[1;33m\u001b[0m\u001b[0m\n\u001b[0;32m     18\u001b[0m \u001b[0mprint\u001b[0m\u001b[1;33m(\u001b[0m\u001b[1;34m\"\"\u001b[0m\u001b[1;33m)\u001b[0m\u001b[1;33m\u001b[0m\u001b[1;33m\u001b[0m\u001b[0m\n",
      "\u001b[1;32m~\\AppData\\Local\\Temp/ipykernel_11808/3802063219.py\u001b[0m in \u001b[0;36mprint_reverse\u001b[1;34m(num)\u001b[0m\n\u001b[0;32m      3\u001b[0m     \u001b[0mi\u001b[0m\u001b[1;33m=\u001b[0m\u001b[1;36m0\u001b[0m\u001b[1;33m\u001b[0m\u001b[1;33m\u001b[0m\u001b[0m\n\u001b[0;32m      4\u001b[0m \u001b[1;33m\u001b[0m\u001b[0m\n\u001b[1;32m----> 5\u001b[1;33m     \u001b[1;32mwhile\u001b[0m \u001b[1;32mnot\u001b[0m \u001b[1;33m(\u001b[0m\u001b[0mnum\u001b[0m\u001b[1;33m[\u001b[0m\u001b[0mi\u001b[0m\u001b[1;33m]\u001b[0m\u001b[1;33m==\u001b[0m\u001b[1;32mNone\u001b[0m\u001b[1;33m)\u001b[0m\u001b[1;33m:\u001b[0m\u001b[1;33m\u001b[0m\u001b[1;33m\u001b[0m\u001b[0m\n\u001b[0m\u001b[0;32m      6\u001b[0m         \u001b[0mi\u001b[0m \u001b[1;33m+=\u001b[0m \u001b[1;36m1\u001b[0m\u001b[1;33m\u001b[0m\u001b[1;33m\u001b[0m\u001b[0m\n\u001b[0;32m      7\u001b[0m \u001b[1;33m\u001b[0m\u001b[0m\n",
      "\u001b[1;31mTypeError\u001b[0m: 'int' object is not subscriptable"
     ]
    }
   ],
   "source": [
    "def reverse(num):\n",
    "    \n",
    "    num = str(num)\n",
    "    \n",
    "    i=0\n",
    "    \n",
    "    while not (num[i]==None):\n",
    "        i += 1\n",
    "    \n",
    "    for j in range(0,i-1,1):\n",
    "        print(f\"{num[(i-1)-j]}\",end=\"\")\n",
    "    \n",
    "    return num\n",
    "\n",
    "\n",
    "print_reverse(124)\n",
    "\n",
    "print(\"\")\n",
    "\n",
    "print_reverse(11234)\n",
    "    "
   ]
  },
  {
   "cell_type": "code",
   "execution_count": 31,
   "id": "93068cd2",
   "metadata": {},
   "outputs": [
    {
     "name": "stdout",
     "output_type": "stream",
     "text": [
      "뽑힌 숫자 9 3 2\n"
     ]
    }
   ],
   "source": [
    "import random\n",
    "\n",
    "tmp = []\n",
    "for i in range(3):\n",
    "    tmp.append(random.randrange(0, 10))\n",
    "\n",
    "print(\"뽑힌 숫자 \", end=\"\")\n",
    "print(tmp[0], tmp[1], tmp[2])\n",
    "\n",
    "\n",
    "\n",
    "\n"
   ]
  },
  {
   "cell_type": "code",
   "execution_count": 40,
   "id": "48002147",
   "metadata": {},
   "outputs": [
    {
     "name": "stdout",
     "output_type": "stream",
     "text": [
      "뽑힌 숫자 4 7 6\n",
      "얻은 점수: 0\n",
      "게임을 그만두시겠습니까?(y or n): y\n",
      "총 점수: 0, 잭 팟 획수: 0\n"
     ]
    }
   ],
   "source": [
    "def generate_numbers():\n",
    "      \n",
    "    n1 = random.randrange(0, 10)\n",
    "    n2 = random.randrange(0, 10)\n",
    "    n3 = random.randrange(0, 10)\n",
    "    \n",
    "    return n1,n2,n3\n",
    "\n",
    "\n",
    "def check_score(num1,num2,num3):\n",
    "    \n",
    "    this_game_score = 0\n",
    "    this_game_jk = 0\n",
    "    \n",
    "    \n",
    "    if num1 == num2 == num3 :\n",
    "        this_game_score += 2\n",
    "        \n",
    "        if num1 == 7 :\n",
    "            this_game_score += 3\n",
    "            this_game_jk += 2\n",
    "            \n",
    "    elif num1 == num2 or num1 == num3 or num2 == num3 :\n",
    "        this_game_score += 1\n",
    "    \n",
    "    else :\n",
    "        pass\n",
    "\n",
    "    \n",
    "    \n",
    "    return this_game_score, this_game_jk\n",
    "\n",
    "\n",
    "\n",
    "total_score = 0\n",
    "total_jk = 0\n",
    "\n",
    "while 1:\n",
    "    \n",
    "   \n",
    "    \n",
    "    num1,num2,num3 = generate_numbers()\n",
    "    \n",
    "    score, jk = check_score(num1,num2,num3)\n",
    "    \n",
    "    total_score += score\n",
    "    \n",
    "    print(f\"뽑힌 숫자 {num1} {num2} {num3}\")\n",
    "    print(f\"얻은 점수: {score}\")\n",
    "    \n",
    "    \n",
    "    botton = input(\"게임을 그만두시겠습니까?(y or n): \")\n",
    "    \n",
    "    if botton == \"y\":\n",
    "        \n",
    "        print(f\"총 점수: {total_score}, 잭 팟 획수: {total_jk}\")\n",
    "        \n",
    "        break\n",
    "\n",
    "\n",
    "\n",
    "\n",
    "\n",
    "\n"
   ]
  },
  {
   "cell_type": "code",
   "execution_count": null,
   "id": "6fa26f7a",
   "metadata": {},
   "outputs": [],
   "source": []
  },
  {
   "cell_type": "code",
   "execution_count": null,
   "id": "51caabf5",
   "metadata": {},
   "outputs": [],
   "source": []
  }
 ],
 "metadata": {
  "kernelspec": {
   "display_name": "Python 3 (ipykernel)",
   "language": "python",
   "name": "python3"
  },
  "language_info": {
   "codemirror_mode": {
    "name": "ipython",
    "version": 3
   },
   "file_extension": ".py",
   "mimetype": "text/x-python",
   "name": "python",
   "nbconvert_exporter": "python",
   "pygments_lexer": "ipython3",
   "version": "3.9.7"
  }
 },
 "nbformat": 4,
 "nbformat_minor": 5
}
