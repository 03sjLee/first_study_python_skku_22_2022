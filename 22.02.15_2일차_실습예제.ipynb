{
 "cells": [
  {
   "cell_type": "code",
   "execution_count": 3,
   "id": "9ae7d1c3",
   "metadata": {},
   "outputs": [
    {
     "name": "stdout",
     "output_type": "stream",
     "text": [
      "20\n",
      "20\n",
      "20\n",
      "Yes\n"
     ]
    }
   ],
   "source": [
    "aa = int(input())\n",
    "bb = int(input())\n",
    "cc = int(input())\n",
    "\n",
    "if aa + bb <= cc or bb + cc <= aa or aa + cc <= bb:\n",
    "    print(\"No\")\n",
    "else:\n",
    "    print(\"Yes\")"
   ]
  },
  {
   "cell_type": "code",
   "execution_count": null,
   "id": "d4ace8c9",
   "metadata": {},
   "outputs": [],
   "source": [
    "print(\"원피스의 개수를 입력하시오: \")\n",
    "one = int(input())\n",
    "\n",
    "print(\"스웨터의 개수를 입력하시오: \")\n",
    "sw = int(input())\n",
    "\n",
    "price = one*50000 + sw*30000\n",
    "\n",
    "price = int(price)\n",
    "\n",
    "\n",
    "if price >= 200000 :\n",
    "    price = price * 0.8\n",
    "\n",
    "elif price >= 100000 :\n",
    "    price = price * 0.9\n",
    "\n",
    "else :\n",
    "    price = price * 0.95\n",
    "    \n",
    "    \n",
    "\n",
    "print(f\"총액: {price:0.0f}\")\n",
    "    \n",
    "    \n",
    "    \n",
    "    "
   ]
  },
  {
   "cell_type": "code",
   "execution_count": null,
   "id": "5b8d87c7",
   "metadata": {},
   "outputs": [],
   "source": [
    "print(\"숫자를 입력하시오: \")\n",
    "one = int(input())\n",
    "\n",
    "one = one % 10\n",
    "\n",
    "if one == 3 or one == 6 or one == 9 :\n",
    "    print(\"Yes\")\n",
    "\n",
    "else :\n",
    "    print(\"No\")"
   ]
  },
  {
   "cell_type": "code",
   "execution_count": 27,
   "id": "89578902",
   "metadata": {},
   "outputs": [
    {
     "name": "stdout",
     "output_type": "stream",
     "text": [
      "숫자를 입력하시오: \n",
      "1\n",
      "1의 자리수의 합은 1 입니다.\n"
     ]
    }
   ],
   "source": [
    "\n",
    "print(\"숫자를 입력하시오: \")\n",
    "num = int(input())\n",
    "\n",
    "one = num\n",
    "\n",
    "plus = 0\n",
    "\n",
    "\n",
    "while not num < 10 :\n",
    "    \n",
    "    aa = num % 10\n",
    "    \n",
    "    num = (num - aa) / 10\n",
    "    \n",
    "    plus = plus + aa\n",
    "\n",
    "plus = plus + num\n",
    "\n",
    "print(f\"{num:0.0f}의 자리수의 합은 {plus:0.0f} 입니다.\")\n",
    "\n"
   ]
  },
  {
   "cell_type": "code",
   "execution_count": 30,
   "id": "cbdc5e16",
   "metadata": {},
   "outputs": [
    {
     "name": "stdout",
     "output_type": "stream",
     "text": [
      "숫자를 입력: 99102\n",
      "99102의 자리수의 합은 21 입니다\n"
     ]
    }
   ],
   "source": [
    "\n",
    "aa = int(input(\"숫자를 입력: \"))\n",
    "\n",
    "\n",
    "bb=aa\n",
    "\n",
    "total_sum = 0\n",
    "\n",
    "while aa:\n",
    "    \n",
    "    total_sum += aa % 10\n",
    "    aa = aa // 10\n",
    "\n",
    "print(f\"{bb}의 자리수의 합은 {total_sum} 입니다\")\n",
    "    "
   ]
  },
  {
   "cell_type": "code",
   "execution_count": 31,
   "id": "28dae64f",
   "metadata": {},
   "outputs": [
    {
     "name": "stdout",
     "output_type": "stream",
     "text": [
      "숫자를 입력하시오: 20\n",
      "2^0부터 2^ 20 까지의 합은 2097151 입니다\n"
     ]
    }
   ],
   "source": [
    "aa = int(input(\"숫자를 입력하시오: \"))\n",
    "\n",
    "bb = aa\n",
    "\n",
    "total_sum = 0\n",
    "\n",
    "for i in range(0, bb+1, 1):\n",
    "    total_sum += 2**i\n",
    "\n",
    "\n",
    "print(f\"2^0부터 2^ {aa} 까지의 합은 {total_sum} 입니다\")"
   ]
  },
  {
   "cell_type": "code",
   "execution_count": 36,
   "id": "bb52e1c6",
   "metadata": {},
   "outputs": [
    {
     "name": "stdout",
     "output_type": "stream",
     "text": [
      "숫자를 입력하시오: 100\n",
      "숫자를 입력하시오: 900\n",
      "숫자를 입력하시오: 102\n",
      "숫자를 입력하시오: 12\n",
      "숫자를 입력하시오: -123\n",
      "숫자를 입력하시오: 0\n",
      "991\n"
     ]
    }
   ],
   "source": [
    "aa = int(input(\"숫자를 입력하시오: \"))\n",
    "\n",
    "total_sum = 0\n",
    "\n",
    "\n",
    "while True:\n",
    "    if not (aa):\n",
    "        break\n",
    "        \n",
    "    else:\n",
    "        total_sum += aa\n",
    "        aa = int(input(\"숫자를 입력하시오: \"))\n",
    "\n",
    "print(f\"{total_sum}\")\n",
    "\n",
    "    \n",
    "    "
   ]
  },
  {
   "cell_type": "code",
   "execution_count": 40,
   "id": "28ff93de",
   "metadata": {},
   "outputs": [
    {
     "name": "stdout",
     "output_type": "stream",
     "text": [
      "가로길이를 입력하시오: 10\n",
      "세로길이를 입력하시오: 5\n",
      "**********\n",
      "**********\n",
      "**********\n",
      "**********\n",
      "**********\n"
     ]
    }
   ],
   "source": [
    "garo = int(input(\"가로길이를 입력하시오: \"))\n",
    "sero = int(input(\"세로길이를 입력하시오: \"))\n",
    "  \n",
    "tmp = (\"*\" * garo) \n",
    "\n",
    "for i in range(sero):\n",
    "    print(tmp)\n",
    "\n",
    "    \n",
    "\n"
   ]
  },
  {
   "cell_type": "code",
   "execution_count": 54,
   "id": "f2691546",
   "metadata": {},
   "outputs": [
    {
     "name": "stdout",
     "output_type": "stream",
     "text": [
      "밑변의 길이를 입력하시오: 10\n",
      "         * \n",
      "        * * \n",
      "       * * * \n",
      "      * * * * \n",
      "     * * * * * \n",
      "    * * * * * * \n",
      "   * * * * * * * \n",
      "  * * * * * * * * \n",
      " * * * * * * * * * \n",
      "* * * * * * * * * * \n"
     ]
    }
   ],
   "source": [
    "aa = int(input(\"밑변의 길이를 입력하시오: \"))\n",
    "\n",
    "\n",
    "\n",
    "for i in range(1,aa+1,1):\n",
    "    tmp = (\"* \" * i) +\"\\n\"\n",
    "        \n",
    "    j = aa - i\n",
    "        \n",
    "    for n in range(0,j,1):\n",
    "        print(\" \",end=\"\")\n",
    "        \n",
    "    print(tmp,end=\"\")\n",
    "\n",
    "\n",
    "\n"
   ]
  },
  {
   "cell_type": "code",
   "execution_count": 56,
   "id": "cccc6e05",
   "metadata": {
    "scrolled": true
   },
   "outputs": [
    {
     "name": "stdout",
     "output_type": "stream",
     "text": [
      "마름모의 길이를 입력하시오: 10\n",
      "         * \n",
      "        * * \n",
      "       * * * \n",
      "      * * * * \n",
      "     * * * * * \n",
      "    * * * * * * \n",
      "   * * * * * * * \n",
      "  * * * * * * * * \n",
      " * * * * * * * * * \n",
      "* * * * * * * * * * \n",
      " * * * * * * * * * \n",
      "  * * * * * * * * \n",
      "   * * * * * * * \n",
      "    * * * * * * \n",
      "     * * * * * \n",
      "      * * * * \n",
      "       * * * \n",
      "        * * \n",
      "         * \n"
     ]
    }
   ],
   "source": [
    "aa = int(input(\"마름모의 길이를 입력하시오: \"))\n",
    "\n",
    "\n",
    "\n",
    "for i in range(1,aa+1,1):\n",
    "    tmp = (\"* \" * i) +\"\\n\"\n",
    "        \n",
    "    j = aa - i\n",
    "        \n",
    "    for n in range(0,j,1):\n",
    "        print(\" \",end=\"\")\n",
    "        \n",
    "    print(tmp,end=\"\")\n",
    "\n",
    "    \n",
    "for i in range(1,aa,1):\n",
    "    tmp = (\"* \" * (aa-i)) +\"\\n\"\n",
    "        \n",
    "    j = i\n",
    "        \n",
    "    for n in range(0,j,1):\n",
    "        print(\" \",end=\"\")\n",
    "        \n",
    "    print(tmp,end=\"\")"
   ]
  },
  {
   "cell_type": "code",
   "execution_count": null,
   "id": "3c8025a8",
   "metadata": {},
   "outputs": [],
   "source": []
  }
 ],
 "metadata": {
  "kernelspec": {
   "display_name": "Python 3 (ipykernel)",
   "language": "python",
   "name": "python3"
  },
  "language_info": {
   "codemirror_mode": {
    "name": "ipython",
    "version": 3
   },
   "file_extension": ".py",
   "mimetype": "text/x-python",
   "name": "python",
   "nbconvert_exporter": "python",
   "pygments_lexer": "ipython3",
   "version": "3.9.7"
  }
 },
 "nbformat": 4,
 "nbformat_minor": 5
}
