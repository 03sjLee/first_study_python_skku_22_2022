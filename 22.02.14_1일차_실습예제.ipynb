{
 "cells": [
  {
   "cell_type": "code",
   "execution_count": 4,
   "id": "07d1480b",
   "metadata": {},
   "outputs": [
    {
     "name": "stdout",
     "output_type": "stream",
     "text": [
      "가로 길이를 입력하시요: \n",
      "3\n",
      "세로 길이를 입력하시오: \n",
      "3\n",
      "직사각형의 둘레: 12\n",
      "직사각형의 넓이: 9\n"
     ]
    }
   ],
   "source": [
    "print(\"가로 길이를 입력하시요: \")\n",
    "width = input()\n",
    "\n",
    "print(\"세로 길이를 입력하시오: \")\n",
    "height = input()\n",
    "\n",
    "circumference = (int(width) + int(height)) * 2\n",
    "\n",
    "area = int(width) * int(height)\n",
    "\n",
    "print(\"직사각형의 둘레: {0}\".format(circumference)) #0번째 즉 첫번째 or print(f\"\"{circumference})\n",
    "\n",
    "print(\"직사각형의 넓이: {0}\".format(area))"
   ]
  },
  {
   "cell_type": "code",
   "execution_count": 9,
   "id": "5621baed",
   "metadata": {},
   "outputs": [
    {
     "name": "stdout",
     "output_type": "stream",
     "text": [
      "첫 번째 숫자를 입력하시오: \n",
      "12\n",
      "두 번째 숫자를 입력하시오: \n",
      "23\n",
      "두 수의 합: 35\n",
      "두 수의 차: -11\n",
      "두 수의 곱: 276\n",
      "두 수의 나눗셈: 0.5\n"
     ]
    }
   ],
   "source": [
    "print(\"첫 번째 숫자를 입력하시오: \")\n",
    "first = input()\n",
    "\n",
    "print(\"두 번째 숫자를 입력하시오: \")\n",
    "second = input()\n",
    "\n",
    "one = (int(first) + int(second))\n",
    "\n",
    "two = (int(first) - int(second))\n",
    "\n",
    "thr = (int(first) * int(second))\n",
    "\n",
    "fo = (int(first) / int(second))\n",
    "\n",
    "print(f\"두 수의 합: {one}\") # (f\"{first+second}\") or (\"{0:0.2f}\".format{})\n",
    "\n",
    "print(f\"두 수의 차: {two}\")\n",
    "\n",
    "print(f\"두 수의 곱: {thr}\")\n",
    "\n",
    "print(f\"두 수의 나눗셈: {fo:0.2f}\")"
   ]
  },
  {
   "cell_type": "code",
   "execution_count": 17,
   "id": "759c9b30",
   "metadata": {},
   "outputs": [
    {
     "name": "stdout",
     "output_type": "stream",
     "text": [
      "화씨 온도를 입력하세요: \n",
      "17\n",
      "화씨 온도 17는 섭씨 온도 -8.33 입니다.\n",
      "섭씨 온도를 입력하세요: \n",
      "26\n",
      "섭씨 온도 26.00는 화씨 온도 78.80 입니다.\n"
     ]
    }
   ],
   "source": [
    "print(\"화씨 온도를 입력하세요: \")\n",
    "aa = input()\n",
    "aa = int(aa)\n",
    "\n",
    "print(f\"화씨 온도 {aa}는 섭씨 온도 {(aa-32)/1.8:0.2f} 입니다.\")\n",
    "\n",
    "print(\"섭씨 온도를 입력하세요: \")\n",
    "bb = input()\n",
    "bb = int(bb)\n",
    "\n",
    "print(f\"섭씨 온도 {bb:0.2f}는 화씨 온도 {(bb*1.8)+32:0.2f} 입니다.\")"
   ]
  },
  {
   "cell_type": "code",
   "execution_count": 10,
   "id": "8d2bf65a",
   "metadata": {},
   "outputs": [
    {
     "name": "stdout",
     "output_type": "stream",
     "text": [
      "1\n",
      "2\n",
      "3\n",
      "No\n"
     ]
    }
   ],
   "source": [
    "aa = input()\n",
    "bb = input()\n",
    "cc = input()\n",
    "\n",
    "aa = int(aa)\n",
    "bb = int(bb)\n",
    "cc = int(cc)\n",
    "\n",
    "if aa + bb > cc and bb + cc > aa and aa + cc > bb :\n",
    "    print(\"Yes\")\n",
    "else:\n",
    "    print(\"No\")"
   ]
  },
  {
   "cell_type": "code",
   "execution_count": null,
   "id": "6e14c5b2",
   "metadata": {},
   "outputs": [],
   "source": []
  }
 ],
 "metadata": {
  "kernelspec": {
   "display_name": "Python 3 (ipykernel)",
   "language": "python",
   "name": "python3"
  },
  "language_info": {
   "codemirror_mode": {
    "name": "ipython",
    "version": 3
   },
   "file_extension": ".py",
   "mimetype": "text/x-python",
   "name": "python",
   "nbconvert_exporter": "python",
   "pygments_lexer": "ipython3",
   "version": "3.9.7"
  }
 },
 "nbformat": 4,
 "nbformat_minor": 5
}
